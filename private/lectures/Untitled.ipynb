{
 "cells": [
  {
   "cell_type": "code",
   "execution_count": 2,
   "id": "28e6a019-1410-4098-9769-6b2f337f166b",
   "metadata": {},
   "outputs": [],
   "source": [
    "import numpy as np\n",
    "import matplotlib.pyplot as plt\n",
    "from matplotlib.animation import FuncAnimation\n",
    "from IPython.display import Video"
   ]
  },
  {
   "cell_type": "code",
   "execution_count": 3,
   "id": "477eb4ce-676f-4a3c-b6db-6f0ef77820ca",
   "metadata": {},
   "outputs": [],
   "source": [
    "def lorentz(q,v,B,E):\n",
    "    return q * (E + np.cross(v,B) )"
   ]
  },
  {
   "cell_type": "code",
   "execution_count": 46,
   "id": "3817595c-393a-466b-aa18-43c54df9a159",
   "metadata": {},
   "outputs": [],
   "source": [
    "q=-1\n",
    "v = np.array([0,0,0])\n",
    "B = np.array([0,0,-1])\n",
    "E = np.array([-1,0,0])\n",
    "\n",
    "dt = .01\n",
    "t = np.arange(0,20,dt)\n",
    "r = np.array([0,0,0])\n",
    "\n",
    "vlist = []\n",
    "rlist = []\n",
    "for tt in t:\n",
    "    vlist.append(v)\n",
    "    rlist.append(r)\n",
    "    F = lorentz(q,v,B,E)\n",
    "    v = v + F * dt\n",
    "    r = r + v * dt"
   ]
  },
  {
   "cell_type": "code",
   "execution_count": 50,
   "id": "55764be3-1e59-40c7-af9e-16f55a32a018",
   "metadata": {},
   "outputs": [
    {
     "data": {
      "image/png": "[encoded data removed]",
      "text/plain": [
       "<Figure size 576x360 with 1 Axes>"
      ]
     },
     "metadata": {
      "needs_background": "light"
     },
     "output_type": "display_data"
    }
   ],
   "source": [
    "rlist = np.array(rlist)\n",
    "\n",
    "fname = \"lorentz_1.mp4\"\n",
    "\n",
    "fig = plt.figure(figsize=(8,5))\n",
    "ax = plt.gca()\n",
    "ax.set_xlim(rlist[:,0].min(),rlist[:,0].max())\n",
    "ax.set_ylim(rlist[:,1].min(),rlist[:,1].max())\n",
    "ax.xaxis.set_visible(False)\n",
    "ax.yaxis.set_visible(False)\n",
    "path, = ax.plot([],[],c='blue',lw=1)\n",
    "particle = ax.scatter([],[],c='green')\n",
    "#ax.set_aspect('equal')\n",
    "\n",
    "def init():\n",
    "    path.set_data( [],[] )\n",
    "    particle.set_offsets( np.array( [[],[]]).T )\n",
    "    return path,particle\n",
    "\n",
    "def animate(i):\n",
    "    path.set_data(rlist[:i,0],rlist[:i,1])\n",
    "    particle.set_offsets(np.array( [[rlist[i,0]],[rlist[i,1]]] ).T)\n",
    "    return path,particle\n",
    "\n",
    "anim = FuncAnimation(fig, animate, init_func=init,\n",
    "                               frames=rlist[:,0].size, interval=5, blit=True)\n",
    "\n",
    "anim.save(fname)"
   ]
  },
  {
   "cell_type": "code",
   "execution_count": 40,
   "id": "4ec9bd16-8d47-41f0-9f6f-6cdca48add94",
   "metadata": {},
   "outputs": [
    {
     "data": {
      "text/plain": [
       "141.65625845136887"
      ]
     },
     "execution_count": 40,
     "metadata": {},
     "output_type": "execute_result"
    }
   ],
   "source": [
    "rlist[:,0].max()"
   ]
  },
  {
   "cell_type": "code",
   "execution_count": 31,
   "id": "2387df98-ed9d-4db9-9a7b-b8faecd764e3",
   "metadata": {},
   "outputs": [
    {
     "data": {
      "text/plain": [
       "array([ 0.000000e+00,  0.000000e+00, -1.000000e-07, -4.000000e-07,\n",
       "       -9.999999e-07])"
      ]
     },
     "execution_count": 31,
     "metadata": {},
     "output_type": "execute_result"
    }
   ],
   "source": [
    "rlist[:5,1]"
   ]
  },
  {
   "cell_type": "code",
   "execution_count": null,
   "id": "7fa990e8-e41f-49fa-bac7-81476d4447b7",
   "metadata": {},
   "outputs": [],
   "source": []
  }
 ],
 "metadata": {
  "kernelspec": {
   "display_name": "Python 3",
   "language": "python",
   "name": "python3"
  },
  "language_info": {
   "codemirror_mode": {
    "name": "ipython",
    "version": 3
   },
   "file_extension": ".py",
   "mimetype": "text/x-python",
   "name": "python",
   "nbconvert_exporter": "python",
   "pygments_lexer": "ipython3",
   "version": "3.8.8"
  }
 },
 "nbformat": 4,
 "nbformat_minor": 5
}
