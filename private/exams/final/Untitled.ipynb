{
 "cells": [
  {
   "cell_type": "code",
   "execution_count": 1,
   "id": "5f0282ce-4651-49b0-93a7-650239970f8f",
   "metadata": {},
   "outputs": [],
   "source": [
    "from astropy import units as u, constants\n",
    "import numpy as np"
   ]
  },
  {
   "cell_type": "code",
   "execution_count": 7,
   "id": "594ed72c-7660-4ffb-8f0f-c135f6d9a7b6",
   "metadata": {},
   "outputs": [
    {
     "data": {
      "text/latex": [
       "$0.16 \\; \\mathrm{T}$"
      ],
      "text/plain": [
       "<Quantity 0.16 T>"
      ]
     },
     "execution_count": 7,
     "metadata": {},
     "output_type": "execute_result"
    }
   ],
   "source": [
    "I = 1e5 * u.amp\n",
    "L = 0.5 * u.m\n",
    "B = (2 * constants.mu0 / (4*np.pi) * 2 * I / (L/2)).to('T')"
   ]
  },
  {
   "cell_type": "code",
   "execution_count": 10,
   "id": "5e9005a7-b450-43d8-8afc-c5012b4c2bb2",
   "metadata": {},
   "outputs": [],
   "source": [
    "F = (I * L * B).to('N')\n",
    "a = F / (10*u.kg)"
   ]
  },
  {
   "cell_type": "code",
   "execution_count": 36,
   "id": "ebc32459-4d4f-4282-b976-91de748856dc",
   "metadata": {},
   "outputs": [
    {
     "data": {
      "text/latex": [
       "$[1.6978103 \\times 10^{14},~1.4148419 \\times 10^{14},~0] \\; \\mathrm{\\frac{N}{C}}$"
      ],
      "text/plain": [
       "<Quantity [1.69781030e+14, 1.41484191e+14, 0.00000000e+00] N / C>"
      ]
     },
     "execution_count": 36,
     "metadata": {},
     "output_type": "execute_result"
    }
   ],
   "source": [
    "r = np.array([6e-12,5e-12,0]) * u.m\n",
    "rmag = np.sqrt(r.dot(r))\n",
    "rhat = r / rmag\n",
    "q = 1.5e-18 * u.C\n",
    "k = 1 / 4 / np.pi / constants.eps0\n",
    "\n",
    "E_plus = k * q / rmag**2 * rhat\n",
    "E_plus.to('N/C')"
   ]
  },
  {
   "cell_type": "code",
   "execution_count": 37,
   "id": "5a235a4d-db88-435f-a5bb-1fc2927f6294",
   "metadata": {},
   "outputs": [
    {
     "data": {
      "text/latex": [
       "$[-9.6464528 \\times 10^{13},~-4.8232264 \\times 10^{13},~-0] \\; \\mathrm{\\frac{N}{C}}$"
      ],
      "text/plain": [
       "<Quantity [-9.64645284e+13, -4.82322642e+13, -0.00000000e+00] N / C>"
      ]
     },
     "execution_count": 37,
     "metadata": {},
     "output_type": "execute_result"
    }
   ],
   "source": [
    "r = np.array([10e-12,5e-12,0]) * u.m\n",
    "rmag = np.sqrt(r.dot(r))\n",
    "rhat = r / rmag\n",
    "q = -1.5e-18 * u.C\n",
    "k = 1 / 4 / np.pi / constants.eps0\n",
    "\n",
    "E_minus = k * q / rmag**2 * rhat\n",
    "E_minus.to('N/C')"
   ]
  },
  {
   "cell_type": "code",
   "execution_count": 39,
   "id": "fc2cf248-d442-4071-bf06-3def06c69dc5",
   "metadata": {},
   "outputs": [
    {
     "data": {
      "text/latex": [
       "$[7.3316501 \\times 10^{13},~9.3251927 \\times 10^{13},~0] \\; \\mathrm{\\frac{N}{C}}$"
      ],
      "text/plain": [
       "<Quantity [7.33165012e+13, 9.32519271e+13, 0.00000000e+00] N / C>"
      ]
     },
     "execution_count": 39,
     "metadata": {},
     "output_type": "execute_result"
    }
   ],
   "source": [
    "(E_plus + E_minus).to('N/C')"
   ]
  },
  {
   "cell_type": "code",
   "execution_count": 40,
   "id": "2d084c39-c51c-4f11-8a8a-6f684cb913ea",
   "metadata": {},
   "outputs": [
    {
     "data": {
      "text/plain": [
       "1.7671458676442586"
      ]
     },
     "execution_count": 40,
     "metadata": {},
     "output_type": "execute_result"
    }
   ],
   "source": [
    ".5 * np.pi * .15**2 / .02"
   ]
  },
  {
   "cell_type": "code",
   "execution_count": 42,
   "id": "64e7e18c-25f8-46a2-8026-d6e23cd96d1c",
   "metadata": {},
   "outputs": [
    {
     "data": {
      "text/plain": [
       "-4.591836734693877"
      ]
     },
     "execution_count": 42,
     "metadata": {},
     "output_type": "execute_result"
    }
   ],
   "source": [
    "9e9 * -25e-9 / .07**2 /1e4"
   ]
  },
  {
   "cell_type": "code",
   "execution_count": 44,
   "id": "ea0413f4-6e95-4608-b4fc-bd1ddad76af2",
   "metadata": {},
   "outputs": [
    {
     "data": {
      "text/plain": [
       "3.51"
      ]
     },
     "execution_count": 44,
     "metadata": {},
     "output_type": "execute_result"
    }
   ],
   "source": [
    "9e9 * (64e-9-25e-9)/.1**2 / 1e4"
   ]
  },
  {
   "cell_type": "code",
   "execution_count": 19,
   "id": "7cdfd576-8d67-40f8-9eca-183d3404bad7",
   "metadata": {},
   "outputs": [],
   "source": [
    "R1 = 330\n",
    "R2 = 100\n",
    "R3 = 220\n",
    "\n",
    "emf = 9\n",
    "\n",
    "Req = R1 + (1/R2+1/R3)**(-1)"
   ]
  },
  {
   "cell_type": "code",
   "execution_count": 22,
   "id": "fe8844da-9158-4d54-9dae-3df3259821a9",
   "metadata": {},
   "outputs": [
    {
     "data": {
      "text/plain": [
       "0.0225705329153605"
      ]
     },
     "execution_count": 22,
     "metadata": {},
     "output_type": "execute_result"
    }
   ],
   "source": [
    "I1 = emf / Req\n",
    "I1"
   ]
  },
  {
   "cell_type": "code",
   "execution_count": 13,
   "id": "0bacaa01-d0a8-49f7-ba84-ec9c9f0d429f",
   "metadata": {},
   "outputs": [
    {
     "data": {
      "text/plain": [
       "0.015517241379310346"
      ]
     },
     "execution_count": 13,
     "metadata": {},
     "output_type": "execute_result"
    }
   ],
   "source": [
    "I2=(9 - I1*R1)/R2\n",
    "I2"
   ]
  },
  {
   "cell_type": "code",
   "execution_count": 14,
   "id": "51b7d9d7-8a04-47d7-98bb-076f892cc8d5",
   "metadata": {},
   "outputs": [
    {
     "data": {
      "text/plain": [
       "0.007053291536050158"
      ]
     },
     "execution_count": 14,
     "metadata": {},
     "output_type": "execute_result"
    }
   ],
   "source": [
    "I3 = (9-I1*R1)/R3\n",
    "I3"
   ]
  },
  {
   "cell_type": "code",
   "execution_count": 25,
   "id": "0c40a441-b611-4485-9a05-fdb880fb4c46",
   "metadata": {},
   "outputs": [
    {
     "data": {
      "text/plain": [
       "0.007053291536050158"
      ]
     },
     "execution_count": 25,
     "metadata": {},
     "output_type": "execute_result"
    }
   ],
   "source": [
    "(9-I1*330)/220"
   ]
  },
  {
   "cell_type": "code",
   "execution_count": null,
   "id": "e2fd66c4-7cba-4991-930f-5961cdbed42c",
   "metadata": {},
   "outputs": [],
   "source": []
  }
 ],
 "metadata": {
  "kernelspec": {
   "display_name": "Python 3",
   "language": "python",
   "name": "python3"
  },
  "language_info": {
   "codemirror_mode": {
    "name": "ipython",
    "version": 3
   },
   "file_extension": ".py",
   "mimetype": "text/x-python",
   "name": "python",
   "nbconvert_exporter": "python",
   "pygments_lexer": "ipython3",
   "version": "3.8.8"
  }
 },
 "nbformat": 4,
 "nbformat_minor": 5
}
