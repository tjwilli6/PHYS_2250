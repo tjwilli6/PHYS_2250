{
 "cells": [
  {
   "cell_type": "code",
   "execution_count": 1,
   "metadata": {},
   "outputs": [],
   "source": [
    "import numpy as np"
   ]
  },
  {
   "cell_type": "code",
   "execution_count": 2,
   "metadata": {},
   "outputs": [
    {
     "data": {
      "text/plain": [
       "2312.5"
      ]
     },
     "execution_count": 2,
     "metadata": {},
     "output_type": "execute_result"
    }
   ],
   "source": [
    "3.7e-16/1.6e-19"
   ]
  },
  {
   "cell_type": "code",
   "execution_count": 3,
   "metadata": {},
   "outputs": [
    {
     "data": {
      "text/plain": [
       "array([-500., 2000., 3000.])"
      ]
     },
     "execution_count": 3,
     "metadata": {},
     "output_type": "execute_result"
    }
   ],
   "source": [
    "np.array( [8e-17,-3.2e-16,-4.8e-16] ) / -1.6e-19"
   ]
  },
  {
   "cell_type": "code",
   "execution_count": 15,
   "metadata": {},
   "outputs": [
    {
     "data": {
      "text/plain": [
       "array([-5.4e-05,  5.4e+05, -0.0e+00])"
      ]
     },
     "execution_count": 15,
     "metadata": {},
     "output_type": "execute_result"
    }
   ],
   "source": [
    "np.array( [4.5e-5,-4.5e5,0] ) / 5e-9 * -6e-9"
   ]
  },
  {
   "cell_type": "code",
   "execution_count": 51,
   "metadata": {},
   "outputs": [],
   "source": [
    "def calc_field_point(rsrc,qsrc,robs):\n",
    "    k = 9e9\n",
    "    rsrc = np.array(rsrc)\n",
    "    robs = np.array(robs)\n",
    "    r = robs - rsrc\n",
    "    rmag = np.sqrt( np.dot(r,r) )\n",
    "    rhat = r / rmag\n",
    "    print( \"rsrc: {}\".format(rsrc) )\n",
    "    print( \"robs: {}\".format(robs) )\n",
    "    print( \"r = robs-rsrc = {}\".format(r) )\n",
    "    print( \"|r|={:.4f}\".format(rmag))\n",
    "    print( \"rhat={}\".format(rhat))\n",
    "    Emag = k * qsrc / rmag**2\n",
    "    print( \"E = (9e9)({})/{:.4f} <{}>\".format(qsrc,rmag**2,rhat))\n",
    "    print( \"|E|={:.4E}\".format(Emag))\n",
    "    E = Emag * rhat\n",
    "    print( \"E = {}\".format(Emag*rhat))\n",
    "    return E"
   ]
  },
  {
   "cell_type": "code",
   "execution_count": 47,
   "metadata": {},
   "outputs": [
    {
     "name": "stdout",
     "output_type": "stream",
     "text": [
      "rsrc: [0 0]\n",
      "robs: [-0.1 -0.1]\n",
      "r = robs-rsrc = [-0.1 -0.1]\n",
      "|r|=0.1414\n",
      "rhat=[-0.70710678 -0.70710678]\n",
      "E = (9e9)(4e-09)/0.0200[-0.70710678 -0.70710678]\n",
      "|E|=1.8000E+03\n",
      "E = [-1272.79220614 -1272.79220614]\n"
     ]
    },
    {
     "data": {
      "text/plain": [
       "array([-1272.79220614, -1272.79220614])"
      ]
     },
     "execution_count": 47,
     "metadata": {},
     "output_type": "execute_result"
    }
   ],
   "source": [
    "calc_field_point( [0,0],4e-9,[-.1,-.1] )"
   ]
  },
  {
   "cell_type": "code",
   "execution_count": 52,
   "metadata": {},
   "outputs": [
    {
     "name": "stdout",
     "output_type": "stream",
     "text": [
      "rsrc: [0.4 0.  0. ]\n",
      "robs: [0.2 0.  0. ]\n",
      "r = robs-rsrc = [-0.2  0.   0. ]\n",
      "|r|=0.2000\n",
      "rhat=[-1.  0.  0.]\n",
      "E = (9e9)(-1e-09)/0.0400 <[-1.  0.  0.]>\n",
      "|E|=-2.2500E+02\n",
      "E = [225.  -0.  -0.]\n"
     ]
    },
    {
     "data": {
      "text/plain": [
       "array([225.,  -0.,  -0.])"
      ]
     },
     "execution_count": 52,
     "metadata": {},
     "output_type": "execute_result"
    }
   ],
   "source": [
    "calc_field_point( [0.4,0,0],-1e-9,[0.2,0,0])"
   ]
  },
  {
   "cell_type": "code",
   "execution_count": 53,
   "metadata": {},
   "outputs": [
    {
     "name": "stdout",
     "output_type": "stream",
     "text": [
      "rsrc: [0 0 0]\n",
      "robs: [0.12 0.   0.  ]\n",
      "r = robs-rsrc = [0.12 0.   0.  ]\n",
      "|r|=0.1200\n",
      "rhat=[1. 0. 0.]\n",
      "E = (9e9)(-1e-09)/0.0144 <[1. 0. 0.]>\n",
      "|E|=-6.2500E+02\n",
      "E = [-625.   -0.   -0.]\n"
     ]
    },
    {
     "data": {
      "text/plain": [
       "array([-625.,   -0.,   -0.])"
      ]
     },
     "execution_count": 53,
     "metadata": {},
     "output_type": "execute_result"
    }
   ],
   "source": [
    "calc_field_point( [0,0,0],-1e-9,[0.12,0,0])"
   ]
  },
  {
   "cell_type": "code",
   "execution_count": 60,
   "metadata": {},
   "outputs": [
    {
     "name": "stdout",
     "output_type": "stream",
     "text": [
      "rsrc: [0 0]\n",
      "robs: [0.   0.04]\n",
      "r = robs-rsrc = [0.   0.04]\n",
      "|r|=0.0400\n",
      "rhat=[0. 1.]\n",
      "E = (9e9)(8e-06)/0.0016 <[0. 1.]>\n",
      "|E|=4.5000E+07\n",
      "E = [       0. 45000000.]\n"
     ]
    }
   ],
   "source": [
    "E2 = calc_field_point( [0,0],8e-6,[0,.04] ) / 1e7"
   ]
  },
  {
   "cell_type": "code",
   "execution_count": 64,
   "metadata": {},
   "outputs": [
    {
     "name": "stdout",
     "output_type": "stream",
     "text": [
      "rsrc: [0.03 0.  ]\n",
      "robs: [0.   0.04]\n",
      "r = robs-rsrc = [-0.03  0.04]\n",
      "|r|=0.0500\n",
      "rhat=[-0.6  0.8]\n",
      "E = (9e9)(-5e-06)/0.0025 <[-0.6  0.8]>\n",
      "|E|=-1.8000E+07\n",
      "E = [ 10800000. -14400000.]\n"
     ]
    }
   ],
   "source": [
    "E3 = calc_field_point( [.03,0],-5e-6,[0,0.04] ) / 1e7"
   ]
  },
  {
   "cell_type": "code",
   "execution_count": 69,
   "metadata": {},
   "outputs": [
    {
     "name": "stdout",
     "output_type": "stream",
     "text": [
      "rsrc: [0.   0.04]\n",
      "robs: [0.03 0.04]\n",
      "r = robs-rsrc = [0.03 0.  ]\n",
      "|r|=0.0300\n",
      "rhat=[1. 0.]\n",
      "E = (9e9)(3e-06)/0.0009 <[1. 0.]>\n",
      "|E|=3.0000E+07\n",
      "E = [30000000.        0.]\n"
     ]
    }
   ],
   "source": [
    "E1 = calc_field_point( [0,0.04],3e-6,[0.03,0.04] )"
   ]
  },
  {
   "cell_type": "code",
   "execution_count": 70,
   "metadata": {},
   "outputs": [
    {
     "name": "stdout",
     "output_type": "stream",
     "text": [
      "rsrc: [0 0]\n",
      "robs: [0.03 0.04]\n",
      "r = robs-rsrc = [0.03 0.04]\n",
      "|r|=0.0500\n",
      "rhat=[0.6 0.8]\n",
      "E = (9e9)(8e-06)/0.0025 <[0.6 0.8]>\n",
      "|E|=2.8800E+07\n",
      "E = [17280000.         23039999.99999999]\n"
     ]
    }
   ],
   "source": [
    "E2 = calc_field_point( [0,0],8e-6,[0.03,0.04] )"
   ]
  },
  {
   "cell_type": "code",
   "execution_count": 75,
   "metadata": {},
   "outputs": [
    {
     "name": "stdout",
     "output_type": "stream",
     "text": [
      "rsrc: [0.03 0.  ]\n",
      "robs: [0.03 0.04]\n",
      "r = robs-rsrc = [0.   0.04]\n",
      "|r|=0.0400\n",
      "rhat=[0. 1.]\n",
      "E = (9e9)(-5e-06)/0.0016 <[0. 1.]>\n",
      "|E|=-2.8125E+07\n",
      "E = [       -0. -28125000.]\n"
     ]
    }
   ],
   "source": [
    "E3 = calc_field_point( [0.03,0],-5e-6,[.03,.04] )"
   ]
  },
  {
   "cell_type": "code",
   "execution_count": 77,
   "metadata": {},
   "outputs": [
    {
     "data": {
      "text/plain": [
       "array([ 4.728 , -0.5085])"
      ]
     },
     "execution_count": 77,
     "metadata": {},
     "output_type": "execute_result"
    }
   ],
   "source": [
    "sum( [E1,E2,E3] ) / 1e7"
   ]
  },
  {
   "cell_type": "code",
   "execution_count": 80,
   "metadata": {},
   "outputs": [],
   "source": [
    "ma = 6.8e-27"
   ]
  },
  {
   "cell_type": "code",
   "execution_count": 86,
   "metadata": {},
   "outputs": [
    {
     "data": {
      "text/plain": [
       "-2.3970588235294117"
      ]
     },
     "execution_count": 86,
     "metadata": {},
     "output_type": "execute_result"
    }
   ],
   "source": [
    "-1.63e-12/ma / 1e14"
   ]
  },
  {
   "cell_type": "code",
   "execution_count": 87,
   "metadata": {},
   "outputs": [
    {
     "data": {
      "text/plain": [
       "9.6e-29"
      ]
     },
     "execution_count": 87,
     "metadata": {},
     "output_type": "execute_result"
    }
   ],
   "source": [
    "1.6e-19*6e-10"
   ]
  },
  {
   "cell_type": "code",
   "execution_count": 90,
   "metadata": {},
   "outputs": [
    {
     "data": {
      "text/plain": [
       "4.319999999999999e-15"
      ]
     },
     "execution_count": 90,
     "metadata": {},
     "output_type": "execute_result"
    }
   ],
   "source": [
    "2*9e9*9.6e-29/(4e-8)**3 *1.6e-19"
   ]
  },
  {
   "cell_type": "code",
   "execution_count": null,
   "metadata": {},
   "outputs": [],
   "source": []
  }
 ],
 "metadata": {
  "kernelspec": {
   "display_name": "Python 3",
   "language": "python",
   "name": "python3"
  },
  "language_info": {
   "codemirror_mode": {
    "name": "ipython",
    "version": 3
   },
   "file_extension": ".py",
   "mimetype": "text/x-python",
   "name": "python",
   "nbconvert_exporter": "python",
   "pygments_lexer": "ipython3",
   "version": "3.7.6"
  }
 },
 "nbformat": 4,
 "nbformat_minor": 4
}
