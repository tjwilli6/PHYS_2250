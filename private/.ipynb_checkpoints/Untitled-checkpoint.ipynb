{
 "cells": [
  {
   "cell_type": "code",
   "execution_count": 185,
   "metadata": {},
   "outputs": [],
   "source": [
    "import numpy as np\n",
    "import matplotlib.pyplot as plt\n",
    "from matplotlib.animation import FuncAnimation\n",
    "from IPython.display import HTML\n",
    "plt.style.use('/Users/tjwilli/presentation.mplstyle')"
   ]
  },
  {
   "cell_type": "code",
   "execution_count": 219,
   "metadata": {},
   "outputs": [],
   "source": [
    "num_atoms = 40\n",
    "v_therm = 4\n",
    "dt = 0.01\n",
    "t = np.arange(0,8,dt)\n",
    "v0 = np.random.normal( loc=v_therm,scale=0.1*v_therm,size=num_atoms)\n",
    "x0 = np.random.uniform(-1,1,size=num_atoms)\n",
    "y0 = np.random.uniform(-1,1,size=num_atoms)\n",
    "theta = np.random.uniform(0,2*np.pi,size=num_atoms)\n",
    "vE = 0.0\n",
    "#vE = 0.15\n",
    "#x = []\n",
    "#y = []\n",
    "#vx = []\n",
    "#vy = []\n",
    "#for i in range(num_atoms):\n",
    "#    x.append( np.zeros_like(t) )\n",
    "#    y.append( np.zeros_like(t) )\n",
    "#    vx.append( np.zeros_like(t) )\n",
    "#    vy.append( np.zeros_like(t) )\n",
    "#    x[i][0] = x0[i]\n",
    "#    y[i][0] = y0[i]\n",
    "#    vx[i][0] = v_therm * np.cos(theta[i])\n",
    "#    vy[i][0] = v_therm * np.sin(theta[i])\n",
    "x = np.zeros( (num_atoms,t.size) )\n",
    "y = np.zeros_like(x)\n",
    "vx = np.zeros_like(x)\n",
    "vy = np.zeros_like(x)\n",
    "\n",
    "x[:,0] = x0\n",
    "y[:,0] = y0\n",
    "vx[:,0] = v0 * np.cos( theta )\n",
    "vy[:,0] = v0 * np.sin( theta ) \n",
    "\n",
    "for i in range(1,t.size):\n",
    "    xnew = x[:,i-1] + vx[:,i-1] * dt\n",
    "    ynew = y[:,i-1] + vy[:,i-1] * dt\n",
    "    outX = np.abs( xnew ) >= 1\n",
    "    outY = np.abs( ynew ) >= 1\n",
    "    vx[outX,i] = -vx[outX,i-1] + vE\n",
    "    vx[~outX,i] = vx[~outX,i-1] + vE\n",
    "    vy[outY,i] = -vy[outY,i-1]\n",
    "    vy[~outY,i] = vy[~outY,i-1]\n",
    "    x[:,i] = x[:,i-1] + vx[:,i] * dt\n",
    "    y[:,i] = y[:,i-1] + vy[:,i] * dt\n",
    "    #x[:,i] = xnew\n",
    "    #y[:,i] = ynew\n",
    "    #vx[:,i] = vx[:,i-1]\n",
    "    #vy[:,i] = vy[:,i-1]\n",
    "    \n",
    "#for i in range(1,t.size):\n",
    "#    for i_atm in range(num_atoms):\n",
    "#        xnew = x[i_atm][i-1] + vx[i_atm][i-1]*dt\n",
    "#        ynew = y[i_atm][i-1] + vy[i_atm][i-1]*dt\n",
    "#        x[i_atm][i] = xnew\n",
    "#        y[i_atm][i] = ynew"
   ]
  },
  {
   "cell_type": "code",
   "execution_count": 220,
   "metadata": {},
   "outputs": [
    {
     "data": {
      "image/png": "[encoded data removed]",
      "text/plain": [
       "<Figure size 960x600 with 1 Axes>"
      ]
     },
     "metadata": {
      "needs_background": "light"
     },
     "output_type": "display_data"
    }
   ],
   "source": [
    "fig = plt.figure()\n",
    "ax = plt.axes(xlim=(-1,1), ylim=(-1, 1))\n",
    "scat = plt.scatter([],[],c='blue')\n",
    "avgX = plt.axvline(c='blue')\n",
    "avgY = plt.axhline(c='blue')\n",
    "xN = np.linspace(-.9,.9,10)\n",
    "yN = np.linspace(-.9,.9,4)\n",
    "xg,yg = np.meshgrid(xN,yN)\n",
    "ax.scatter(xg,yg,color='red')\n",
    "ax.axvline(xg.mean(),color='red')\n",
    "ax.axhline(yg.mean(),color='red')\n",
    "\n",
    "ax.xaxis.set_visible(False)\n",
    "ax.yaxis.set_visible(False)\n",
    "\n",
    "def init():\n",
    "    v = ax.axvspan(0,0)\n",
    "    scat.set_offsets( [[],[]] )\n",
    "    return scat\n",
    "\n",
    "def animate(i):\n",
    "    scat.set_offsets( np.array([x[:,i],y[:,i]]).T ) \n",
    "    meanX = x[:,i].mean()\n",
    "    meanY = y[:,i].mean()\n",
    "    \n",
    "    avgX.set_data( [meanX,meanX],[-1,1] )\n",
    "    avgY.set_data( [-1,1],[meanY,meanY] )\n",
    "    return scat,avgX,avgY\n",
    "    \n",
    "anim = FuncAnimation(fig, animate,\n",
    "                               frames=t.size, interval=20, blit=True)\n"
   ]
  },
  {
   "cell_type": "code",
   "execution_count": 199,
   "metadata": {},
   "outputs": [],
   "source": [
    "num_atoms = 20\n",
    "xN = np.linspace(-1,1,10)\n",
    "yN = np.linspace(-1,1,4)\n",
    "xg,yg = np.meshgrid(xN,yN)"
   ]
  },
  {
   "cell_type": "code",
   "execution_count": 221,
   "metadata": {},
   "outputs": [],
   "source": [
    "anim.save('drude_E0.mp4')"
   ]
  },
  {
   "cell_type": "code",
   "execution_count": 158,
   "metadata": {},
   "outputs": [
    {
     "data": {
      "text/plain": [
       "(0, 20)"
      ]
     },
     "execution_count": 158,
     "metadata": {},
     "output_type": "execute_result"
    },
    {
     "data": {
      "image/png": "[encoded data removed]",
      "text/plain": [
       "<Figure size 432x288 with 1 Axes>"
      ]
     },
     "metadata": {
      "needs_background": "light"
     },
     "output_type": "display_data"
    }
   ],
   "source": [
    "plt.figure()\n",
    "ax = plt.gca()\n",
    "v=ax.axhline(3)\n",
    "#v.set_data( [5,5],[0,1] )\n",
    "v.set_data([-1,1],[3,3])\n",
    "plt.xlim(0,20)"
   ]
  },
  {
   "cell_type": "code",
   "execution_count": 150,
   "metadata": {},
   "outputs": [
    {
     "data": {
      "text/plain": [
       "(0, 10)"
      ]
     },
     "execution_count": 150,
     "metadata": {},
     "output_type": "execute_result"
    },
    {
     "data": {
      "image/png": "[encoded data removed]",
      "text/plain": [
       "<Figure size 432x288 with 1 Axes>"
      ]
     },
     "metadata": {
      "needs_background": "light"
     },
     "output_type": "display_data"
    }
   ],
   "source": [
    "plt.figure()\n",
    "ax = plt.gca()\n",
    "v=ax.axvspan(3,5)\n",
    "v.set_xy( [[3,4],[0,1]])\n",
    "plt.xlim(0,10)"
   ]
  },
  {
   "cell_type": "code",
   "execution_count": 149,
   "metadata": {},
   "outputs": [],
   "source": []
  },
  {
   "cell_type": "code",
   "execution_count": null,
   "metadata": {},
   "outputs": [],
   "source": []
  }
 ],
 "metadata": {
  "kernelspec": {
   "display_name": "Python 3",
   "language": "python",
   "name": "python3"
  },
  "language_info": {
   "codemirror_mode": {
    "name": "ipython",
    "version": 3
   },
   "file_extension": ".py",
   "mimetype": "text/x-python",
   "name": "python",
   "nbconvert_exporter": "python",
   "pygments_lexer": "ipython3",
   "version": "3.7.6"
  }
 },
 "nbformat": 4,
 "nbformat_minor": 4
}
