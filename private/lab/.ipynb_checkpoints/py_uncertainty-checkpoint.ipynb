{
 "cells": [
  {
   "cell_type": "code",
   "execution_count": 2,
   "id": "00f7c341-ef01-4dc5-b719-9c214fa6b7a1",
   "metadata": {},
   "outputs": [],
   "source": [
    "from uncertainties import ufloat\n",
    "#to install: \"pip install uncertainties\""
   ]
  },
  {
   "cell_type": "code",
   "execution_count": 4,
   "id": "b576b618-a164-4740-be41-09add7c0286d",
   "metadata": {},
   "outputs": [],
   "source": [
    "emf = 9\n",
    "r1 = 100\n",
    "r2 = 120\n",
    "\n",
    "ipred = emf / ( r1 + r2 )"
   ]
  },
  {
   "cell_type": "code",
   "execution_count": 5,
   "id": "5e1ff829-6dd0-4d65-97db-173a67559044",
   "metadata": {},
   "outputs": [],
   "source": [
    "#EMF 9V +- 0.1 V\n",
    "emf = ufloat(9,.1)"
   ]
  },
  {
   "cell_type": "code",
   "execution_count": 6,
   "id": "fc815ac9-5d40-4f55-815f-8ae44e7e5a5e",
   "metadata": {},
   "outputs": [
    {
     "name": "stdout",
     "output_type": "stream",
     "text": [
      "9.00+/-0.10\n"
     ]
    }
   ],
   "source": [
    "print(emf)"
   ]
  },
  {
   "cell_type": "code",
   "execution_count": 7,
   "id": "7fc8fd81-4e7c-474c-beb1-a5c12d8db202",
   "metadata": {},
   "outputs": [
    {
     "name": "stdout",
     "output_type": "stream",
     "text": [
      "9.0\n"
     ]
    }
   ],
   "source": [
    "print(emf.nominal_value)"
   ]
  },
  {
   "cell_type": "code",
   "execution_count": 8,
   "id": "68d19036-7d1f-4ffd-8f3a-3e4e92e08e1a",
   "metadata": {},
   "outputs": [
    {
     "name": "stdout",
     "output_type": "stream",
     "text": [
      "0.1\n"
     ]
    }
   ],
   "source": [
    "print(emf.std_dev)"
   ]
  },
  {
   "cell_type": "code",
   "execution_count": 9,
   "id": "9d60aa36-1bb1-4b9c-b5c5-0081c395c205",
   "metadata": {},
   "outputs": [],
   "source": [
    "#EMF 9V +- 0.1 V\n",
    "#R1 = 120 +- 12\n",
    "#R2 = 470 +- 47\n",
    "\n",
    "emf = ufloat(9,.1)\n",
    "r1 = ufloat(120,12)\n",
    "r2 = ufloat(470,47)\n",
    "\n",
    "ipred = emf / (r1 + r2)"
   ]
  },
  {
   "cell_type": "code",
   "execution_count": 10,
   "id": "573da308-e636-40f9-9a39-643f5e8f366c",
   "metadata": {},
   "outputs": [
    {
     "name": "stdout",
     "output_type": "stream",
     "text": [
      "0.0153+/-0.0013\n"
     ]
    }
   ],
   "source": [
    "print(ipred)"
   ]
  },
  {
   "cell_type": "code",
   "execution_count": 11,
   "id": "3142846e-f518-4eea-b0ae-b8e83f3dd099",
   "metadata": {},
   "outputs": [
    {
     "name": "stdout",
     "output_type": "stream",
     "text": [
      "0.015254237288135594\n"
     ]
    }
   ],
   "source": [
    "print(ipred.nominal_value)"
   ]
  },
  {
   "cell_type": "code",
   "execution_count": 12,
   "id": "b9804431-35be-4e16-a654-db47361a7f69",
   "metadata": {},
   "outputs": [
    {
     "name": "stdout",
     "output_type": "stream",
     "text": [
      "0.0012655510114174793\n"
     ]
    }
   ],
   "source": [
    "print(ipred.std_dev)"
   ]
  },
  {
   "cell_type": "code",
   "execution_count": null,
   "id": "543ac0f6-a0a9-4367-9166-70b64ee6d9ba",
   "metadata": {},
   "outputs": [],
   "source": []
  }
 ],
 "metadata": {
  "kernelspec": {
   "display_name": "Python 3",
   "language": "python",
   "name": "python3"
  },
  "language_info": {
   "codemirror_mode": {
    "name": "ipython",
    "version": 3
   },
   "file_extension": ".py",
   "mimetype": "text/x-python",
   "name": "python",
   "nbconvert_exporter": "python",
   "pygments_lexer": "ipython3",
   "version": "3.8.8"
  }
 },
 "nbformat": 4,
 "nbformat_minor": 5
}
