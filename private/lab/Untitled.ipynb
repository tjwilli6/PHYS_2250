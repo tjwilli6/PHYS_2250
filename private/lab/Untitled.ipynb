{
 "cells": [
  {
   "cell_type": "code",
   "execution_count": null,
   "id": "421d5c28-8a4f-4480-b0ee-7b39bdda5a35",
   "metadata": {},
   "outputs": [],
   "source": [
    "from uncertainties import ufloat\n",
    "import numpy as np"
   ]
  },
  {
   "cell_type": "code",
   "execution_count": null,
   "id": "749c7d0c-e009-46ca-a652-a9e44cea9c76",
   "metadata": {},
   "outputs": [],
   "source": []
  },
  {
   "cell_type": "code",
   "execution_count": null,
   "id": "1185c81a-ab6f-4eea-b838-a2796e7f1085",
   "metadata": {},
   "outputs": [],
   "source": []
  },
  {
   "cell_type": "code",
   "execution_count": null,
   "id": "6afc5726-af4c-4239-948c-79aec5b034b0",
   "metadata": {},
   "outputs": [],
   "source": [
    "V1 = ufloat(7.6226,0.0231)\n",
    "I1 = ufloat(76.751e-3,.090e-3)\n",
    "\n",
    "V2 = ufloat(7.9606,.0048)\n",
    "I2 = ufloat(36.606e-3,0.014e-3)\n",
    "\n",
    "rint = (V1 - V2) / (I2 - I1)"
   ]
  },
  {
   "cell_type": "code",
   "execution_count": null,
   "id": "44d604a1-4928-4a86-99f8-92e6ee378ec5",
   "metadata": {},
   "outputs": [],
   "source": [
    "rint"
   ]
  },
  {
   "cell_type": "code",
   "execution_count": null,
   "id": "ac722752-6ce0-44df-81ce-a8fc29fd26ec",
   "metadata": {},
   "outputs": [],
   "source": [
    "emf = I2 * rint + V2"
   ]
  },
  {
   "cell_type": "code",
   "execution_count": null,
   "id": "a09ee5d0-710a-4507-865f-7fa950a2cc79",
   "metadata": {},
   "outputs": [],
   "source": [
    "emf"
   ]
  },
  {
   "cell_type": "code",
   "execution_count": null,
   "id": "ce9829e5-a8d9-45a7-8735-89fd49d3223f",
   "metadata": {},
   "outputs": [],
   "source": [
    "num.nominal_value / denom.nominal_value * np.sqrt( (num.std_dev/num.nominal_value)**2 )"
   ]
  },
  {
   "cell_type": "code",
   "execution_count": null,
   "id": "1755c36b-04e5-4362-82ee-d4c4a78087c2",
   "metadata": {},
   "outputs": [],
   "source": [
    "num.std_dev / num.nominal_value"
   ]
  },
  {
   "cell_type": "code",
   "execution_count": null,
   "id": "d3d38ce7-1e3e-4085-a05f-d67d01c292a8",
   "metadata": {},
   "outputs": [],
   "source": []
  }
 ],
 "metadata": {
  "kernelspec": {
   "display_name": "Python 3",
   "language": "python",
   "name": "python3"
  },
  "language_info": {
   "codemirror_mode": {
    "name": "ipython",
    "version": 3
   },
   "file_extension": ".py",
   "mimetype": "text/x-python",
   "name": "python",
   "nbconvert_exporter": "python",
   "pygments_lexer": "ipython3",
   "version": "3.8.8"
  }
 },
 "nbformat": 4,
 "nbformat_minor": 5
}
